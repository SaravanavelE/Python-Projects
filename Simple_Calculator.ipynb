{
  "nbformat": 4,
  "nbformat_minor": 0,
  "metadata": {
    "colab": {
      "provenance": [],
      "authorship_tag": "ABX9TyM0tBhR8KMZtf38NC+aTNQx",
      "include_colab_link": true
    },
    "kernelspec": {
      "name": "python3",
      "display_name": "Python 3"
    },
    "language_info": {
      "name": "python"
    }
  },
  "cells": [
    {
      "cell_type": "markdown",
      "metadata": {
        "id": "view-in-github",
        "colab_type": "text"
      },
      "source": [
        "<a href=\"https://colab.research.google.com/github/SaravanavelE/Python-Projects/blob/main/Simple_Calculator.ipynb\" target=\"_parent\"><img src=\"https://colab.research.google.com/assets/colab-badge.svg\" alt=\"Open In Colab\"/></a>"
      ]
    },
    {
      "cell_type": "code",
      "execution_count": null,
      "metadata": {
        "id": "vUqUxp8k0PIv"
      },
      "outputs": [],
      "source": [
        "# Function for addition\n",
        "def add(x, y):\n",
        "    return x + y\n",
        "\n",
        "# Function for subtraction\n",
        "def subtract(x, y):\n",
        "    return x - y\n",
        "\n",
        "# Function for multiplication\n",
        "def multiply(x, y):\n",
        "    return x * y\n",
        "\n",
        "# Function for division\n",
        "def divide(x, y):\n",
        "    if y == 0:\n",
        "        return \"Error! could not Divide by zero.\"\n",
        "    return x / y\n"
      ]
    },
    {
      "cell_type": "code",
      "source": [
        "def calc():\n",
        "    print(\"Simple Calculator\")\n",
        "    print(\"Select operation:\")\n",
        "    print(\"1. Add\")\n",
        "    print(\"2. Subtract\")\n",
        "    print(\"3. Multiply\")\n",
        "    print(\"4. Divide\")\n",
        "\n",
        "    # Take user input for operation\n",
        "    while True:\n",
        "            choice = input(\"Enter choice (1/2/3/4): \")\n",
        "\n",
        "            # Validate if the user chooses a valid option\n",
        "            if choice not in ['1', '2', '3', '4']:\n",
        "                print(\"Invalid input! Please select a valid operation.\")\n",
        "                continue\n",
        "\n",
        "            num1 = float(input(\"Enter first number: \"))\n",
        "            num2 = float(input(\"Enter second number: \"))\n",
        "\n",
        "            if choice == '1':\n",
        "                print(f\"{num1} + {num2} = {add(num1, num2)}\")\n",
        "            elif choice == '2':\n",
        "                print(f\"{num1} - {num2} = {subtract(num1, num2)}\")\n",
        "            elif choice == '3':\n",
        "                print(f\"{num1} * {num2} = {multiply(num1, num2)}\")\n",
        "            elif choice == '4':\n",
        "                print(f\"{num1} / {num2} = {divide(num1, num2)}\")\n",
        "            next_calculation = input(\"Do you want to perform another calculation? (yes/no): \").lower()\n",
        "            if next_calculation not in ['yes', 'y']:\n",
        "                print(\"Thank you!\")\n",
        "                break\n",
        "\n",
        "if __name__ == \"__main__\":\n",
        "    calc()\n"
      ],
      "metadata": {
        "colab": {
          "base_uri": "https://localhost:8080/"
        },
        "id": "kx5gKDGz0cKr",
        "outputId": "cd85bc5c-1d3c-450d-8a96-6dec193cf0be"
      },
      "execution_count": null,
      "outputs": [
        {
          "output_type": "stream",
          "name": "stdout",
          "text": [
            "Simple Calculator\n",
            "Select operation:\n",
            "1. Add\n",
            "2. Subtract\n",
            "3. Multiply\n",
            "4. Divide\n",
            "Enter choice (1/2/3/4): 1\n",
            "Enter first number: 5\n",
            "Enter second number: 6\n",
            "5.0 + 6.0 = 11.0\n",
            "Do you want to perform another calculation? (yes/no): yes\n",
            "Enter choice (1/2/3/4): 2\n",
            "Enter first number: 5\n",
            "Enter second number: 3\n",
            "5.0 - 3.0 = 2.0\n",
            "Do you want to perform another calculation? (yes/no): no\n",
            "Thank you!\n"
          ]
        }
      ]
    }
  ]
}