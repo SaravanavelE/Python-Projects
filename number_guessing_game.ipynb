{
  "nbformat": 4,
  "nbformat_minor": 0,
  "metadata": {
    "colab": {
      "provenance": [],
      "authorship_tag": "ABX9TyMULPlt0p00fjUzQJcctdyX",
      "include_colab_link": true
    },
    "kernelspec": {
      "name": "python3",
      "display_name": "Python 3"
    },
    "language_info": {
      "name": "python"
    }
  },
  "cells": [
    {
      "cell_type": "markdown",
      "metadata": {
        "id": "view-in-github",
        "colab_type": "text"
      },
      "source": [
        "<a href=\"https://colab.research.google.com/github/SaravanavelE/Python-Projects/blob/main/number_guessing_game.ipynb\" target=\"_parent\"><img src=\"https://colab.research.google.com/assets/colab-badge.svg\" alt=\"Open In Colab\"/></a>"
      ]
    },
    {
      "cell_type": "code",
      "execution_count": 1,
      "metadata": {
        "colab": {
          "base_uri": "https://localhost:8080/"
        },
        "id": "v9lOMdk13DOf",
        "outputId": "f24f8727-9065-4d55-eccc-7d5d88116c30"
      },
      "outputs": [
        {
          "output_type": "stream",
          "name": "stdout",
          "text": [
            "Welcome to the Number Guessing Game!\n",
            "Guess the number between 1 and 100: 50\n",
            "Too high! Try again.\n",
            "Guess the number between 1 and 100: 25\n",
            "Too low! Try again.\n",
            "Guess the number between 1 and 100: 30\n",
            "Too low! Try again.\n",
            "Guess the number between 1 and 100: 40\n",
            "Too high! Try again.\n",
            "Guess the number between 1 and 100: 35\n",
            "Too high! Try again.\n",
            "Guess the number between 1 and 100: 33\n",
            "Too low! Try again.\n",
            "Guess the number between 1 and 100: 34\n",
            "Congratulations! You've guessed the number 34 in 7 attempts.\n"
          ]
        }
      ],
      "source": [
        "import random\n",
        "\n",
        "def number_guessing_game():\n",
        "    print(\"Welcome to the Number Guessing Game!\")\n",
        "\n",
        "    number = random.randint(1, 100)\n",
        "    attempts = 0\n",
        "\n",
        "    while True:\n",
        "        guess = int(input(\"Guess the number between 1 and 100: \"))\n",
        "        attempts += 1\n",
        "        if guess < number:\n",
        "            print(\"Too low! Try again.\")\n",
        "        elif guess > number:\n",
        "            print(\"Too high! Try again.\")\n",
        "        else:\n",
        "            print(f\"Congratulations! You've guessed the number {number} in {attempts} {'attempt' if attempts == 1 else 'attempts'}.\")\n",
        "            break\n",
        "number_guessing_game()\n"
      ]
    },
    {
      "cell_type": "code",
      "source": [],
      "metadata": {
        "id": "0UunGdQdRzPD"
      },
      "execution_count": null,
      "outputs": []
    }
  ]
}