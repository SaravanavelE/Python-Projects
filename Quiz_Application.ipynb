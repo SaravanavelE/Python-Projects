{
  "nbformat": 4,
  "nbformat_minor": 0,
  "metadata": {
    "colab": {
      "provenance": [],
      "authorship_tag": "ABX9TyOFVIo3N4S+LzG8NTTj8P0x",
      "include_colab_link": true
    },
    "kernelspec": {
      "name": "python3",
      "display_name": "Python 3"
    },
    "language_info": {
      "name": "python"
    }
  },
  "cells": [
    {
      "cell_type": "markdown",
      "metadata": {
        "id": "view-in-github",
        "colab_type": "text"
      },
      "source": [
        "<a href=\"https://colab.research.google.com/github/SaravanavelE/Python-Projects/blob/main/Quiz_Application.ipynb\" target=\"_parent\"><img src=\"https://colab.research.google.com/assets/colab-badge.svg\" alt=\"Open In Colab\"/></a>"
      ]
    },
    {
      "cell_type": "code",
      "execution_count": 3,
      "metadata": {
        "colab": {
          "base_uri": "https://localhost:8080/"
        },
        "id": "6ErPH9lNBER8",
        "outputId": "e040392b-f469-479c-b877-33e90f36dcd7"
      },
      "outputs": [
        {
          "output_type": "stream",
          "name": "stdout",
          "text": [
            "Welcome to the Quiz Application!\n",
            "Answer the following questions by entering the option number.\n",
            "\n",
            "Question 1: What is the capital of India?\n",
            "1. Mumbai\n",
            "2. Delhi\n",
            "3. Chennai\n",
            "4. Bangalore\n",
            "Your answer (1-4): 2\n",
            "Correct!\n",
            "\n",
            "Question 2: Who is the President of India?\n",
            "1. Narendra Modi\n",
            "2. Draupadi Murmu\n",
            "3. Annamalai\n",
            "4. R. N. Ravi\n",
            "Your answer (1-4): 2\n",
            "Correct!\n",
            "\n",
            "Question 3: Who is the Governor of Tamilnadu?\n",
            "1. M.K. Stalin\n",
            "2. R.N. Ravi\n",
            "3. Banwarilal Purohit\n",
            "4. Rosaiah\n",
            "Your answer (1-4): 2\n",
            "Correct!\n",
            "\n",
            "Question 4: What is the square root of 64?\n",
            "1. 6\n",
            "2. 7\n",
            "3. 8\n",
            "4. 9\n",
            "Your answer (1-4): 3\n",
            "Correct!\n",
            "\n",
            "Question 5: What is the square of 6?\n",
            "1. 16\n",
            "2. 26\n",
            "3. 36\n",
            "4. 46\n",
            "Your answer (1-4): 3\n",
            "Correct!\n",
            "\n",
            "Quiz complete! Your score is 5/5.\n",
            "Excellent! You got all the questions right!\n"
          ]
        }
      ],
      "source": [
        "def run_quiz():\n",
        "    questions = [\n",
        "        {\n",
        "            \"question\": \"What is the capital of India?\",\n",
        "            \"options\": [\"1. Mumbai\", \"2. Delhi\", \"3. Chennai\", \"4. Bangalore\"],\n",
        "            \"answer\": 2,\n",
        "        },\n",
        "        {\n",
        "            \"question\": \"Who is the President of India?\",\n",
        "            \"options\": [\"1. Narendra Modi\", \"2. Draupadi Murmu\", \"3. Annamalai\", \"4. R. N. Ravi\"],\n",
        "            \"answer\": 2,\n",
        "        },\n",
        "        {\n",
        "            \"question\": \"Who is the Governor of Tamilnadu?\",\n",
        "            \"options\": [\"1. M.K. Stalin\", \"2. R.N. Ravi\", \"3. Banwarilal Purohit\", \"4. Rosaiah\"],\n",
        "            \"answer\": 2,\n",
        "        },\n",
        "        {\n",
        "            \"question\": \"What is the square root of 64?\",\n",
        "            \"options\": [\"1. 6\", \"2. 7\", \"3. 8\", \"4. 9\"],\n",
        "            \"answer\": 3,\n",
        "        },\n",
        "        {\n",
        "            \"question\": \"What is the square of 6?\",\n",
        "            \"options\": [\"1. 16\", \"2. 26\", \"3. 36\", \"4. 46\"],\n",
        "            \"answer\": 3,\n",
        "        },\n",
        "    ]\n",
        "\n",
        "    score = 0\n",
        "    print(\"Welcome to the Quiz Application!\")\n",
        "    print(\"Answer the following questions by entering the option number.\\n\")\n",
        "\n",
        "    for i, q in enumerate(questions, start=1):\n",
        "        print(f\"Question {i}: {q['question']}\")\n",
        "        for option in q[\"options\"]:\n",
        "            print(option)\n",
        "\n",
        "        while True:\n",
        "            try:\n",
        "                user_answer = int(input(\"Your answer (1-4): \"))\n",
        "                if 1 <= user_answer <= 4:\n",
        "                    break\n",
        "                else:\n",
        "                    print(\"Invalid input. Please enter a number between 1 and 4.\")\n",
        "            except ValueError:\n",
        "                print(\"Invalid input. Please enter a number between 1 and 4.\")\n",
        "\n",
        "        if user_answer == q[\"answer\"]:\n",
        "            print(\"Correct!\\n\")\n",
        "            score += 1\n",
        "        else:\n",
        "            print(f\"Wrong! The correct answer was {q['answer']}.\\n\")\n",
        "\n",
        "    print(f\"Quiz complete! Your score is {score}/{len(questions)}.\")\n",
        "    if score == len(questions):\n",
        "        print(\"Excellent! You got all the questions right!\")\n",
        "    elif score >= len(questions) // 2:\n",
        "        print(\"Good job! You passed the quiz.\")\n",
        "    else:\n",
        "        print(\"Better luck next time!\")\n",
        "\n",
        "if __name__ == \"__main__\":\n",
        "    run_quiz()\n"
      ]
    },
    {
      "cell_type": "code",
      "source": [],
      "metadata": {
        "id": "_Pllv-CkBKwj"
      },
      "execution_count": null,
      "outputs": []
    }
  ]
}